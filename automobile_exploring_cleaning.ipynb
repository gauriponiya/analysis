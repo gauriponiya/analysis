{
 "cells": [
  {
   "cell_type": "code",
   "execution_count": 1,
   "id": "342ae25b",
   "metadata": {},
   "outputs": [],
   "source": [
    "# import libraries\n",
    "import pandas as pd\n",
    "import numpy as np"
   ]
  },
  {
   "cell_type": "code",
   "execution_count": 3,
   "id": "e8df7b56",
   "metadata": {},
   "outputs": [],
   "source": [
    "# load file into panda dataframe\n",
    "df = pd.read_csv('Automobile.csv')"
   ]
  },
  {
   "cell_type": "code",
   "execution_count": 41,
   "id": "eb596ded",
   "metadata": {
    "collapsed": true
   },
   "outputs": [
    {
     "name": "stdout",
     "output_type": "stream",
     "text": [
      "dimentions of the datset: (392, 9)\n",
      "\n",
      "first few rows of the dataset:\n",
      "                        name  mpg  cylinders  displacement  horsepower  \\\n",
      "0  chevrolet chevelle malibu   18          8         307.0       130.0   \n",
      "1          buick skylark 320   15          8         350.0       165.0   \n",
      "2         plymouth satellite   18          8         318.0       150.0   \n",
      "3              amc rebel sst   16          8         304.0       150.0   \n",
      "4                ford torino   17          8         302.0       140.0   \n",
      "\n",
      "   weight  acceleration  model_year origin  \n",
      "0    3504          12.0          70    usa  \n",
      "1    3693          11.5          70    usa  \n",
      "2    3436          11.0          70    usa  \n",
      "3    3433          12.0          70    usa  \n",
      "4    3449          10.5          70    usa  \n",
      "\n",
      "information about the dataset:\n",
      "\n",
      "<class 'pandas.core.frame.DataFrame'>\n",
      "Int64Index: 392 entries, 0 to 397\n",
      "Data columns (total 9 columns):\n",
      " #   Column        Non-Null Count  Dtype  \n",
      "---  ------        --------------  -----  \n",
      " 0   name          392 non-null    object \n",
      " 1   mpg           392 non-null    int64  \n",
      " 2   cylinders     392 non-null    int64  \n",
      " 3   displacement  392 non-null    float64\n",
      " 4   horsepower    392 non-null    float64\n",
      " 5   weight        392 non-null    int64  \n",
      " 6   acceleration  392 non-null    float64\n",
      " 7   model_year    392 non-null    int64  \n",
      " 8   origin        392 non-null    object \n",
      "dtypes: float64(3), int64(4), object(2)\n",
      "memory usage: 30.6+ KB\n",
      "None\n",
      "\n",
      "summary statistics of numerical columns:\n",
      "\n",
      "              mpg   cylinders  displacement  horsepower       weight  \\\n",
      "count  392.000000  392.000000    392.000000  392.000000   392.000000   \n",
      "mean    23.283163    5.471939    194.411990  104.469388  2977.584184   \n",
      "std      7.745896    1.705783    104.644004   38.491160   849.402560   \n",
      "min      9.000000    3.000000     68.000000   46.000000  1613.000000   \n",
      "25%     17.000000    4.000000    105.000000   75.000000  2225.250000   \n",
      "50%     22.500000    4.000000    151.000000   93.500000  2803.500000   \n",
      "75%     29.000000    8.000000    275.750000  126.000000  3614.750000   \n",
      "max     46.000000    8.000000    455.000000  230.000000  5140.000000   \n",
      "\n",
      "       acceleration  model_year  \n",
      "count    392.000000  392.000000  \n",
      "mean      15.541327   75.979592  \n",
      "std        2.758864    3.683737  \n",
      "min        8.000000   70.000000  \n",
      "25%       13.775000   73.000000  \n",
      "50%       15.500000   76.000000  \n",
      "75%       17.025000   79.000000  \n",
      "max       24.800000   82.000000  \n"
     ]
    }
   ],
   "source": [
    "# Data exploration\n",
    "print(\"dimentions of the datset:\", df.shape)\n",
    "print(\"\\nfirst few rows of the dataset:\")\n",
    "print(df.head())\n",
    "print(\"\\ninformation about the dataset:\\n\")\n",
    "print(df.info())\n",
    "print(\"\\nsummary statistics of numerical columns:\\n\")\n",
    "print(df.describe())\n",
    "print(\"\\nunique values in name column\\n\")\n",
    "for column in df.select_dtypes(include= 'object'):\n",
    "    print(column, \":\", df[column].unique())"
   ]
  },
  {
   "cell_type": "code",
   "execution_count": 42,
   "id": "7bcaa63c",
   "metadata": {
    "collapsed": true
   },
   "outputs": [
    {
     "name": "stdout",
     "output_type": "stream",
     "text": [
      "                          name  mpg  cylinders  displacement  horsepower  \\\n",
      "0    chevrolet chevelle malibu   18          8         307.0       130.0   \n",
      "1            buick skylark 320   15          8         350.0       165.0   \n",
      "2           plymouth satellite   18          8         318.0       150.0   \n",
      "3                amc rebel sst   16          8         304.0       150.0   \n",
      "4                  ford torino   17          8         302.0       140.0   \n",
      "..                         ...  ...        ...           ...         ...   \n",
      "393            ford mustang gl   27          4         140.0        86.0   \n",
      "394                  vw pickup   44          4          97.0        52.0   \n",
      "395              dodge rampage   32          4         135.0        84.0   \n",
      "396                ford ranger   28          4         120.0        79.0   \n",
      "397                 chevy s-10   31          4         119.0        82.0   \n",
      "\n",
      "     weight  acceleration  model_year  origin  \n",
      "0      3504          12.0          70     usa  \n",
      "1      3693          11.5          70     usa  \n",
      "2      3436          11.0          70     usa  \n",
      "3      3433          12.0          70     usa  \n",
      "4      3449          10.5          70     usa  \n",
      "..      ...           ...         ...     ...  \n",
      "393    2790          15.6          82     usa  \n",
      "394    2130          24.6          82  europe  \n",
      "395    2295          11.6          82     usa  \n",
      "396    2625          18.6          82     usa  \n",
      "397    2720          19.4          82     usa  \n",
      "\n",
      "[392 rows x 9 columns]\n"
     ]
    }
   ],
   "source": [
    "print(df)"
   ]
  },
  {
   "cell_type": "code",
   "execution_count": 43,
   "id": "41cd2583",
   "metadata": {},
   "outputs": [
    {
     "name": "stdout",
     "output_type": "stream",
     "text": [
      "duplicate=no\n"
     ]
    }
   ],
   "source": [
    "# data cleaning\n",
    "\n",
    "if df.duplicated().any():\n",
    "    df.drop_duplicate(inplace=True)\n",
    "    print(\"duplicates=yes\")\n",
    "    \n",
    "else:\n",
    "    print(\"duplicate=no\")"
   ]
  },
  {
   "cell_type": "code",
   "execution_count": 37,
   "id": "fabad176",
   "metadata": {
    "collapsed": true
   },
   "outputs": [
    {
     "name": "stdout",
     "output_type": "stream",
     "text": [
      "\n",
      "missing values count\n",
      "name            0\n",
      "mpg             0\n",
      "cylinders       0\n",
      "displacement    0\n",
      "horsepower      0\n",
      "weight          0\n",
      "acceleration    0\n",
      "model_year      0\n",
      "origin          0\n",
      "dtype: int64\n",
      "\n",
      "Rows with missing values:\n",
      "Empty DataFrame\n",
      "Columns: [name, mpg, cylinders, displacement, horsepower, weight, acceleration, model_year, origin]\n",
      "Index: []\n",
      "\n",
      "Columns with missing values:\n",
      "Index([], dtype='object')\n"
     ]
    }
   ],
   "source": [
    "missing_value_count = df.isnull().sum()\n",
    "print(\"\\nmissing values count\")\n",
    "print(missing_value_count)\n",
    "\n",
    "# Get rows and columns with missing values\n",
    "rows_with_missing = df[df.isnull().any(axis=1)]\n",
    "columns_with_missing = df.columns[df.isnull().any()]\n",
    "\n",
    "# Print rows with missing values\n",
    "print(\"\\nRows with missing values:\")\n",
    "print(rows_with_missing)\n",
    "\n",
    "# Print columns with missing values\n",
    "print(\"\\nColumns with missing values:\")\n",
    "print(columns_with_missing)\n",
    "\n"
   ]
  },
  {
   "cell_type": "code",
   "execution_count": 36,
   "id": "359d192d",
   "metadata": {},
   "outputs": [],
   "source": [
    "# Delete rows with missing values\n",
    "df.dropna(inplace=True)\n"
   ]
  },
  {
   "cell_type": "code",
   "execution_count": 40,
   "id": "12c184f7",
   "metadata": {},
   "outputs": [],
   "source": [
    "# Convert column from float to int\n",
    "df['mpg'] = df['mpg'].astype(int)\n"
   ]
  },
  {
   "cell_type": "code",
   "execution_count": null,
   "id": "75b703ea",
   "metadata": {},
   "outputs": [],
   "source": []
  }
 ],
 "metadata": {
  "kernelspec": {
   "display_name": "Python 3 (ipykernel)",
   "language": "python",
   "name": "python3"
  },
  "language_info": {
   "codemirror_mode": {
    "name": "ipython",
    "version": 3
   },
   "file_extension": ".py",
   "mimetype": "text/x-python",
   "name": "python",
   "nbconvert_exporter": "python",
   "pygments_lexer": "ipython3",
   "version": "3.9.7"
  }
 },
 "nbformat": 4,
 "nbformat_minor": 5
}
