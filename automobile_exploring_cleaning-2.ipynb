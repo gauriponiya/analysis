{
 "cells": [
  {
   "cell_type": "code",
   "execution_count": 30,
   "id": "262d33e7",
   "metadata": {},
   "outputs": [],
   "source": [
    "# import libraries\n",
    "import pandas as pd\n",
    "import numpy as np"
   ]
  },
  {
   "cell_type": "code",
   "execution_count": 5,
   "id": "eeb0ac82",
   "metadata": {},
   "outputs": [],
   "source": [
    "# load file into panda dataframe\n",
    "df = pd.read_csv('Automobile.csv')"
   ]
  },
  {
   "cell_type": "code",
   "execution_count": 23,
   "id": "94e2be49",
   "metadata": {
    "collapsed": true
   },
   "outputs": [
    {
     "name": "stdout",
     "output_type": "stream",
     "text": [
      "dimentions of the datset: (398, 10)\n",
      "\n",
      "first few rows of the dataset:\n",
      "                        name   mpg  cylinders  displacement  horsepower  \\\n",
      "0  chevrolet chevelle malibu  18.0          8         307.0       130.0   \n",
      "1          buick skylark 320  15.0          8         350.0       165.0   \n",
      "2         plymouth satellite  18.0          8         318.0       150.0   \n",
      "3              amc rebel sst  16.0          8         304.0       150.0   \n",
      "4                ford torino  17.0          8         302.0       140.0   \n",
      "\n",
      "   weight  acceleration  model_year origin   Category  \n",
      "0    3504          12.0          70    usa  chevrolet  \n",
      "1    3693          11.5          70    usa      buick  \n",
      "2    3436          11.0          70    usa   plymouth  \n",
      "3    3433          12.0          70    usa        amc  \n",
      "4    3449          10.5          70    usa       ford  \n",
      "\n",
      "information about the dataset:\n",
      "\n",
      "<class 'pandas.core.frame.DataFrame'>\n",
      "RangeIndex: 398 entries, 0 to 397\n",
      "Data columns (total 10 columns):\n",
      " #   Column        Non-Null Count  Dtype  \n",
      "---  ------        --------------  -----  \n",
      " 0   name          398 non-null    object \n",
      " 1   mpg           398 non-null    float64\n",
      " 2   cylinders     398 non-null    int64  \n",
      " 3   displacement  398 non-null    float64\n",
      " 4   horsepower    392 non-null    float64\n",
      " 5   weight        398 non-null    int64  \n",
      " 6   acceleration  398 non-null    float64\n",
      " 7   model_year    398 non-null    int64  \n",
      " 8   origin        398 non-null    object \n",
      " 9   Category      398 non-null    object \n",
      "dtypes: float64(4), int64(3), object(3)\n",
      "memory usage: 31.2+ KB\n",
      "None\n",
      "\n",
      "summary statistics of numerical columns:\n",
      "\n",
      "              mpg   cylinders  displacement  horsepower       weight  \\\n",
      "count  398.000000  398.000000    398.000000  392.000000   398.000000   \n",
      "mean    23.514573    5.454774    193.425879  104.469388  2970.424623   \n",
      "std      7.815984    1.701004    104.269838   38.491160   846.841774   \n",
      "min      9.000000    3.000000     68.000000   46.000000  1613.000000   \n",
      "25%     17.500000    4.000000    104.250000   75.000000  2223.750000   \n",
      "50%     23.000000    4.000000    148.500000   93.500000  2803.500000   \n",
      "75%     29.000000    8.000000    262.000000  126.000000  3608.000000   \n",
      "max     46.600000    8.000000    455.000000  230.000000  5140.000000   \n",
      "\n",
      "       acceleration  model_year  \n",
      "count    398.000000  398.000000  \n",
      "mean      15.568090   76.010050  \n",
      "std        2.757689    3.697627  \n",
      "min        8.000000   70.000000  \n",
      "25%       13.825000   73.000000  \n",
      "50%       15.500000   76.000000  \n",
      "75%       17.175000   79.000000  \n",
      "max       24.800000   82.000000  \n",
      "\n",
      "unique values in name column\n",
      "\n",
      "name : ['chevrolet chevelle malibu' 'buick skylark 320' 'plymouth satellite'\n",
      " 'amc rebel sst' 'ford torino' 'ford galaxie 500' 'chevrolet impala'\n",
      " 'plymouth fury iii' 'pontiac catalina' 'amc ambassador dpl'\n",
      " 'dodge challenger se' \"plymouth 'cuda 340\" 'chevrolet monte carlo'\n",
      " 'buick estate wagon (sw)' 'toyota corona mark ii' 'plymouth duster'\n",
      " 'amc hornet' 'ford maverick' 'datsun pl510'\n",
      " 'volkswagen 1131 deluxe sedan' 'peugeot 504' 'audi 100 ls' 'saab 99e'\n",
      " 'bmw 2002' 'amc gremlin' 'ford f250' 'chevy c20' 'dodge d200' 'hi 1200d'\n",
      " 'chevrolet vega 2300' 'toyota corona' 'ford pinto'\n",
      " 'plymouth satellite custom' 'ford torino 500' 'amc matador'\n",
      " 'pontiac catalina brougham' 'dodge monaco (sw)'\n",
      " 'ford country squire (sw)' 'pontiac safari (sw)'\n",
      " 'amc hornet sportabout (sw)' 'chevrolet vega (sw)' 'pontiac firebird'\n",
      " 'ford mustang' 'mercury capri 2000' 'opel 1900' 'peugeot 304' 'fiat 124b'\n",
      " 'toyota corolla 1200' 'datsun 1200' 'volkswagen model 111'\n",
      " 'plymouth cricket' 'toyota corona hardtop' 'dodge colt hardtop'\n",
      " 'volkswagen type 3' 'chevrolet vega' 'ford pinto runabout'\n",
      " 'amc ambassador sst' 'mercury marquis' 'buick lesabre custom'\n",
      " 'oldsmobile delta 88 royale' 'chrysler newport royal' 'mazda rx2 coupe'\n",
      " 'amc matador (sw)' 'chevrolet chevelle concours (sw)'\n",
      " 'ford gran torino (sw)' 'plymouth satellite custom (sw)'\n",
      " 'volvo 145e (sw)' 'volkswagen 411 (sw)' 'peugeot 504 (sw)'\n",
      " 'renault 12 (sw)' 'ford pinto (sw)' 'datsun 510 (sw)'\n",
      " 'toyouta corona mark ii (sw)' 'dodge colt (sw)'\n",
      " 'toyota corolla 1600 (sw)' 'buick century 350' 'chevrolet malibu'\n",
      " 'ford gran torino' 'dodge coronet custom' 'mercury marquis brougham'\n",
      " 'chevrolet caprice classic' 'ford ltd' 'plymouth fury gran sedan'\n",
      " 'chrysler new yorker brougham' 'buick electra 225 custom'\n",
      " 'amc ambassador brougham' 'plymouth valiant' 'chevrolet nova custom'\n",
      " 'volkswagen super beetle' 'ford country' 'plymouth custom suburb'\n",
      " 'oldsmobile vista cruiser' 'toyota carina' 'datsun 610' 'maxda rx3'\n",
      " 'mercury capri v6' 'fiat 124 sport coupe' 'chevrolet monte carlo s'\n",
      " 'pontiac grand prix' 'fiat 128' 'opel manta' 'audi 100ls' 'volvo 144ea'\n",
      " 'dodge dart custom' 'saab 99le' 'toyota mark ii' 'oldsmobile omega'\n",
      " 'chevrolet nova' 'datsun b210' 'chevrolet chevelle malibu classic'\n",
      " 'plymouth satellite sebring' 'buick century luxus (sw)'\n",
      " 'dodge coronet custom (sw)' 'audi fox' 'volkswagen dasher' 'datsun 710'\n",
      " 'dodge colt' 'fiat 124 tc' 'honda civic' 'subaru' 'fiat x1.9'\n",
      " 'plymouth valiant custom' 'mercury monarch' 'chevrolet bel air'\n",
      " 'plymouth grand fury' 'buick century' 'chevroelt chevelle malibu'\n",
      " 'plymouth fury' 'buick skyhawk' 'chevrolet monza 2+2' 'ford mustang ii'\n",
      " 'toyota corolla' 'pontiac astro' 'volkswagen rabbit' 'amc pacer'\n",
      " 'volvo 244dl' 'honda civic cvcc' 'fiat 131' 'capri ii' 'renault 12tl'\n",
      " 'dodge coronet brougham' 'chevrolet chevette' 'chevrolet woody'\n",
      " 'vw rabbit' 'dodge aspen se' 'ford granada ghia' 'pontiac ventura sj'\n",
      " 'amc pacer d/l' 'datsun b-210' 'volvo 245' 'plymouth volare premier v8'\n",
      " 'mercedes-benz 280s' 'cadillac seville' 'chevy c10' 'ford f108'\n",
      " 'dodge d100' 'honda accord cvcc' 'buick opel isuzu deluxe'\n",
      " 'renault 5 gtl' 'plymouth arrow gs' 'datsun f-10 hatchback'\n",
      " 'oldsmobile cutlass supreme' 'dodge monaco brougham'\n",
      " 'mercury cougar brougham' 'chevrolet concours' 'buick skylark'\n",
      " 'plymouth volare custom' 'ford granada' 'pontiac grand prix lj'\n",
      " 'chevrolet monte carlo landau' 'chrysler cordoba' 'ford thunderbird'\n",
      " 'volkswagen rabbit custom' 'pontiac sunbird coupe'\n",
      " 'toyota corolla liftback' 'ford mustang ii 2+2' 'dodge colt m/m'\n",
      " 'subaru dl' 'datsun 810' 'bmw 320i' 'mazda rx-4'\n",
      " 'volkswagen rabbit custom diesel' 'ford fiesta' 'mazda glc deluxe'\n",
      " 'datsun b210 gx' 'oldsmobile cutlass salon brougham' 'dodge diplomat'\n",
      " 'mercury monarch ghia' 'pontiac phoenix lj' 'ford fairmont (auto)'\n",
      " 'ford fairmont (man)' 'plymouth volare' 'amc concord'\n",
      " 'buick century special' 'mercury zephyr' 'dodge aspen' 'amc concord d/l'\n",
      " 'buick regal sport coupe (turbo)' 'ford futura' 'dodge magnum xe'\n",
      " 'datsun 510' 'dodge omni' 'toyota celica gt liftback' 'plymouth sapporo'\n",
      " 'oldsmobile starfire sx' 'datsun 200-sx' 'audi 5000' 'volvo 264gl'\n",
      " 'saab 99gle' 'peugeot 604sl' 'volkswagen scirocco' 'honda accord lx'\n",
      " 'pontiac lemans v6' 'mercury zephyr 6' 'ford fairmont 4'\n",
      " 'amc concord dl 6' 'dodge aspen 6' 'ford ltd landau'\n",
      " 'mercury grand marquis' 'dodge st. regis' 'chevrolet malibu classic (sw)'\n",
      " 'chrysler lebaron town @ country (sw)' 'vw rabbit custom'\n",
      " 'maxda glc deluxe' 'dodge colt hatchback custom' 'amc spirit dl'\n",
      " 'mercedes benz 300d' 'cadillac eldorado' 'plymouth horizon'\n",
      " 'plymouth horizon tc3' 'datsun 210' 'fiat strada custom'\n",
      " 'buick skylark limited' 'chevrolet citation' 'oldsmobile omega brougham'\n",
      " 'pontiac phoenix' 'toyota corolla tercel' 'datsun 310' 'ford fairmont'\n",
      " 'audi 4000' 'toyota corona liftback' 'mazda 626' 'datsun 510 hatchback'\n",
      " 'mazda glc' 'vw rabbit c (diesel)' 'vw dasher (diesel)'\n",
      " 'audi 5000s (diesel)' 'mercedes-benz 240d' 'honda civic 1500 gl'\n",
      " 'renault lecar deluxe' 'vokswagen rabbit' 'datsun 280-zx' 'mazda rx-7 gs'\n",
      " 'triumph tr7 coupe' 'ford mustang cobra' 'honda accord'\n",
      " 'plymouth reliant' 'dodge aries wagon (sw)' 'toyota starlet'\n",
      " 'plymouth champ' 'honda civic 1300' 'datsun 210 mpg' 'toyota tercel'\n",
      " 'mazda glc 4' 'plymouth horizon 4' 'ford escort 4w' 'ford escort 2h'\n",
      " 'volkswagen jetta' 'renault 18i' 'honda prelude' 'datsun 200sx'\n",
      " 'peugeot 505s turbo diesel' 'volvo diesel' 'toyota cressida'\n",
      " 'datsun 810 maxima' 'oldsmobile cutlass ls' 'ford granada gl'\n",
      " 'chrysler lebaron salon' 'chevrolet cavalier' 'chevrolet cavalier wagon'\n",
      " 'chevrolet cavalier 2-door' 'pontiac j2000 se hatchback' 'dodge aries se'\n",
      " 'ford fairmont futura' 'amc concord dl' 'volkswagen rabbit l'\n",
      " 'mazda glc custom l' 'mazda glc custom' 'plymouth horizon miser'\n",
      " 'mercury lynx l' 'nissan stanza xe' 'honda civic (auto)' 'datsun 310 gx'\n",
      " 'buick century limited' 'oldsmobile cutlass ciera (diesel)'\n",
      " 'chrysler lebaron medallion' 'ford granada l' 'toyota celica gt'\n",
      " 'dodge charger 2.2' 'chevrolet camaro' 'ford mustang gl' 'vw pickup'\n",
      " 'dodge rampage' 'ford ranger' 'chevy s-10']\n",
      "origin : ['usa' 'japan' 'europe']\n",
      "Category : ['chevrolet' 'buick' 'plymouth' 'amc' 'ford' 'pontiac' 'dodge' 'toyota'\n",
      " 'datsun' 'volkswagen' 'peugeot' 'audi' 'saab' 'bmw' 'chevy' 'hi'\n",
      " 'mercury' 'opel' 'fiat' 'oldsmobile' 'chrysler' 'mazda' 'volvo' 'renault'\n",
      " 'toyouta' 'maxda' 'honda' 'subaru' 'chevroelt' 'capri' 'vw'\n",
      " 'mercedes-benz' 'cadillac' 'mercedes' 'vokswagen' 'triumph' 'nissan']\n"
     ]
    }
   ],
   "source": [
    "# Data exploration\n",
    "print(\"dimentions of the datset:\", df.shape)\n",
    "print(\"\\nfirst few rows of the dataset:\")\n",
    "print(df.head())\n",
    "print(\"\\ninformation about the dataset:\\n\")\n",
    "print(df.info())\n",
    "print(\"\\nsummary statistics of numerical columns:\\n\")\n",
    "print(df.describe())\n",
    "print(\"\\nunique values in name column\\n\")\n",
    "for column in df.select_dtypes(include= 'object'):\n",
    "    print(column, \":\", df[column].unique())"
   ]
  },
  {
   "cell_type": "code",
   "execution_count": 29,
   "id": "b48bc441",
   "metadata": {
    "collapsed": true
   },
   "outputs": [
    {
     "name": "stdout",
     "output_type": "stream",
     "text": [
      "                          name  mpg  cylinders  displacement  horsepower  \\\n",
      "0    chevrolet chevelle malibu   18          8         307.0       130.0   \n",
      "1            buick skylark 320   15          8         350.0       165.0   \n",
      "2           plymouth satellite   18          8         318.0       150.0   \n",
      "3                amc rebel sst   16          8         304.0       150.0   \n",
      "4                  ford torino   17          8         302.0       140.0   \n",
      "..                         ...  ...        ...           ...         ...   \n",
      "393            ford mustang gl   27          4         140.0        86.0   \n",
      "394                  vw pickup   44          4          97.0        52.0   \n",
      "395              dodge rampage   32          4         135.0        84.0   \n",
      "396                ford ranger   28          4         120.0        79.0   \n",
      "397                 chevy s-10   31          4         119.0        82.0   \n",
      "\n",
      "     weight  acceleration  model_year  origin   Category  \n",
      "0      3504          12.0          70     usa  chevrolet  \n",
      "1      3693          11.5          70     usa      buick  \n",
      "2      3436          11.0          70     usa   plymouth  \n",
      "3      3433          12.0          70     usa        amc  \n",
      "4      3449          10.5          70     usa       ford  \n",
      "..      ...           ...         ...     ...        ...  \n",
      "393    2790          15.6          82     usa       ford  \n",
      "394    2130          24.6          82  europe         vw  \n",
      "395    2295          11.6          82     usa      dodge  \n",
      "396    2625          18.6          82     usa       ford  \n",
      "397    2720          19.4          82     usa      chevy  \n",
      "\n",
      "[392 rows x 10 columns]\n"
     ]
    }
   ],
   "source": [
    "print(df)"
   ]
  },
  {
   "cell_type": "code",
   "execution_count": 24,
   "id": "5f20ced2",
   "metadata": {},
   "outputs": [
    {
     "name": "stdout",
     "output_type": "stream",
     "text": [
      "duplicate=no\n"
     ]
    }
   ],
   "source": [
    "# data cleaning\n",
    "\n",
    "if df.duplicated().any():\n",
    "    df.drop_duplicate(inplace=True)\n",
    "    print(\"duplicates=yes\")\n",
    "    \n",
    "else:\n",
    "    print(\"duplicate=no\")"
   ]
  },
  {
   "cell_type": "code",
   "execution_count": 31,
   "id": "545c37c0",
   "metadata": {
    "collapsed": true
   },
   "outputs": [
    {
     "name": "stdout",
     "output_type": "stream",
     "text": [
      "\n",
      "missing values count\n",
      "name            0\n",
      "mpg             0\n",
      "cylinders       0\n",
      "displacement    0\n",
      "horsepower      0\n",
      "weight          0\n",
      "acceleration    0\n",
      "model_year      0\n",
      "origin          0\n",
      "Category        0\n",
      "dtype: int64\n",
      "\n",
      "Rows with missing values:\n",
      "Empty DataFrame\n",
      "Columns: [name, mpg, cylinders, displacement, horsepower, weight, acceleration, model_year, origin, Category]\n",
      "Index: []\n",
      "\n",
      "Columns with missing values:\n",
      "Index([], dtype='object')\n"
     ]
    }
   ],
   "source": [
    "missing_value_count = df.isnull().sum()\n",
    "print(\"\\nmissing values count\")\n",
    "print(missing_value_count)\n",
    "\n",
    "# Get rows and columns with missing values\n",
    "rows_with_missing = df[df.isnull().any(axis=1)]\n",
    "columns_with_missing = df.columns[df.isnull().any()]\n",
    "\n",
    "# Print rows with missing values\n",
    "print(\"\\nRows with missing values:\")\n",
    "print(rows_with_missing)\n",
    "\n",
    "# Print columns with missing values\n",
    "print(\"\\nColumns with missing values:\")\n",
    "print(columns_with_missing)\n",
    "\n"
   ]
  },
  {
   "cell_type": "code",
   "execution_count": 26,
   "id": "5979dd83",
   "metadata": {},
   "outputs": [],
   "source": [
    "# Delete rows with missing values\n",
    "df.dropna(inplace=True)\n"
   ]
  },
  {
   "cell_type": "code",
   "execution_count": 27,
   "id": "83d570a7",
   "metadata": {},
   "outputs": [],
   "source": [
    "# Convert column from float to int\n",
    "df['mpg'] = df['mpg'].astype(int)\n"
   ]
  },
  {
   "cell_type": "code",
   "execution_count": 28,
   "id": "fb821ff5",
   "metadata": {
    "collapsed": true
   },
   "outputs": [
    {
     "name": "stdout",
     "output_type": "stream",
     "text": [
      "                          name   Category\n",
      "0    chevrolet chevelle malibu  chevrolet\n",
      "1            buick skylark 320      buick\n",
      "2           plymouth satellite   plymouth\n",
      "3                amc rebel sst        amc\n",
      "4                  ford torino       ford\n",
      "..                         ...        ...\n",
      "393            ford mustang gl       ford\n",
      "394                  vw pickup         vw\n",
      "395              dodge rampage      dodge\n",
      "396                ford ranger       ford\n",
      "397                 chevy s-10      chevy\n",
      "\n",
      "[392 rows x 2 columns]\n"
     ]
    }
   ],
   "source": [
    "df['Category'] = df['name'].str.split().str[0]\n",
    "new_df = df[['name', 'Category']]\n",
    "print(new_df)\n",
    "new_df.to_csv('car_categories.csv', index = False)"
   ]
  },
  {
   "cell_type": "code",
   "execution_count": 33,
   "id": "56c77e87",
   "metadata": {},
   "outputs": [],
   "source": [
    "df.to_csv('new_automobile.csv', index = False)"
   ]
  },
  {
   "cell_type": "code",
   "execution_count": null,
   "id": "040647a9",
   "metadata": {},
   "outputs": [],
   "source": []
  },
  {
   "cell_type": "code",
   "execution_count": null,
   "id": "b2f610fd",
   "metadata": {},
   "outputs": [],
   "source": []
  },
  {
   "cell_type": "code",
   "execution_count": null,
   "id": "736547b9",
   "metadata": {},
   "outputs": [],
   "source": []
  },
  {
   "cell_type": "code",
   "execution_count": null,
   "id": "dbb1d0e5",
   "metadata": {},
   "outputs": [],
   "source": []
  },
  {
   "cell_type": "code",
   "execution_count": null,
   "id": "7012ce68",
   "metadata": {},
   "outputs": [],
   "source": []
  },
  {
   "cell_type": "code",
   "execution_count": null,
   "id": "483f0a0f",
   "metadata": {},
   "outputs": [],
   "source": []
  },
  {
   "cell_type": "code",
   "execution_count": null,
   "id": "615602f0",
   "metadata": {},
   "outputs": [],
   "source": []
  }
 ],
 "metadata": {
  "kernelspec": {
   "display_name": "Python 3 (ipykernel)",
   "language": "python",
   "name": "python3"
  },
  "language_info": {
   "codemirror_mode": {
    "name": "ipython",
    "version": 3
   },
   "file_extension": ".py",
   "mimetype": "text/x-python",
   "name": "python",
   "nbconvert_exporter": "python",
   "pygments_lexer": "ipython3",
   "version": "3.9.7"
  }
 },
 "nbformat": 4,
 "nbformat_minor": 5
}
